{
 "cells": [
  {
   "cell_type": "code",
   "execution_count": 1,
   "metadata": {},
   "outputs": [
    {
     "name": "stdout",
     "output_type": "stream",
     "text": [
      "Populating the interactive namespace from numpy and matplotlib\n"
     ]
    }
   ],
   "source": [
    "# Import the required modules# Impor \n",
    "%pylab inline \n",
    "import cv2\n",
    "from IPython.display import clear_output\n",
    "from helper import *\n",
    "from vidnet_final import *\n",
    "import os\n",
    "torch.set_default_tensor_type('torch.FloatTensor')"
   ]
  },
  {
   "cell_type": "code",
   "execution_count": 2,
   "metadata": {
    "scrolled": true
   },
   "outputs": [
    {
     "name": "stdout",
     "output_type": "stream",
     "text": [
      "Released Video Resource\n"
     ]
    },
    {
     "data": {
      "text/plain": [
       "<matplotlib.figure.Figure at 0x11dfe04e0>"
      ]
     },
     "metadata": {},
     "output_type": "display_data"
    }
   ],
   "source": [
    "#Grab the input device, in this case the webcam\n",
    "# You can also give path to the video file\n",
    "movie_path = os.listdir('VideoData/')[np.random.randint(200)]\n",
    "vid = cv2.VideoCapture('VideoData/'+movie_path)\n",
    "label = re.findall('_([^_]*)_', movie_path)[0]\n",
    "# Put the code in try-except statements\n",
    "# Catch the keyboard exception and \n",
    "# release the camera device and \n",
    "# continue with the rest of code.\n",
    "try:\n",
    "    while(True):\n",
    "        # Capture frame-by-frame\n",
    "        ret, frame = vid.read()\n",
    "        if not ret:\n",
    "            # Release the Video Device if ret is false\n",
    "            vid.release()\n",
    "            # Message to be displayed after releasing the device\n",
    "            print(\"Released Video Resource\")\n",
    "            break\n",
    "        # Convert the image from OpenCV BGR format to matplotlib RGB format\n",
    "        # to display the image\n",
    "        frame = cv2.cvtColor(frame, cv2.COLOR_BGR2RGB)\n",
    "        # Turn off the axis\n",
    "        axis('off')\n",
    "        # Title of the window\n",
    "        title(\"Input Stream\")\n",
    "        # Display the frame\n",
    "        imshow(frame)\n",
    "        show()\n",
    "        # Display the frame until new frame is available\n",
    "        clear_output(wait=True)\n",
    "except KeyboardInterrupt:\n",
    "    # Release the Video Device\n",
    "    vid.release()\n",
    "    # Message to be displayed after releasing the device\n",
    "    print(\"Released Video Resource\")"
   ]
  },
  {
   "cell_type": "code",
   "execution_count": 4,
   "metadata": {},
   "outputs": [
    {
     "name": "stdout",
     "output_type": "stream",
     "text": [
      "Label: walking\n"
     ]
    }
   ],
   "source": [
    "print('Label: ' + re.findall('_([^_]*)_', movie_path)[0])"
   ]
  },
  {
   "cell_type": "code",
   "execution_count": 5,
   "metadata": {},
   "outputs": [],
   "source": [
    "frames = video3d('VideoData/'+movie_path, (110,110,16), color=False, skip=True,rand=False)"
   ]
  },
  {
   "cell_type": "code",
   "execution_count": 6,
   "metadata": {},
   "outputs": [],
   "source": [
    "save_name = 'NEW_DATA_convpool_rand_noskip_nocol'\n",
    "\n",
    "method = 'conv_pool'\n",
    "input_features = 1\n",
    "\n",
    "if method == 'single':\n",
    "    timesteps_vid = 1\n",
    "    timesteps_net = 1\n",
    "    net = VidNet(method,6,input_features*timesteps_net,timesteps_vid,timesteps_vid)\n",
    "elif method=='conv_pool':\n",
    "    timesteps_vid = 16\n",
    "    timesteps_net = 16\n",
    "    net = VidNet(method,6,input_features*timesteps_net,1,timesteps_vid)\n",
    "elif method == 'late':\n",
    "    timesteps_vid = 4\n",
    "    timesteps_net = 1\n",
    "    net = VidNet(method,6,input_features*timesteps_net,timesteps_vid,timesteps_vid)\n",
    "elif method == 'slow':\n",
    "    timesteps_vid = 16\n",
    "    timesteps_net = 4\n",
    "    net = VidNet(method,6,input_features*timesteps_net,1,timesteps_vid)\n",
    "else:\n",
    "    print('define valid method')\n",
    "# net = torch.load(save_name + '.pt')\n",
    "net.load_state_dict(torch.load(save_name + '.pt'))\n",
    "# d = torch.load(save_name + '.pt')\n",
    "# net.cuda()\n",
    "optimize = optim.Adam(net.parameters(), lr = 0.0001, weight_decay = .005)\n",
    "optimize.load_state_dict(torch.load(save_name + '_opt.pt'))\n",
    "# for state in optimize.state.values():\n",
    "#     for k, v in state.items():\n",
    "#         if torch.is_tensor(v):\n",
    "#             state[k] = v.cuda()"
   ]
  },
  {
   "cell_type": "code",
   "execution_count": 7,
   "metadata": {},
   "outputs": [],
   "source": [
    "labels = [re.findall('_([^_]*)_', c)[0] for c in os.listdir('VideoData/')]\n",
    "x = list(set(labels))\n",
    "dic = dict(zip(x, list(range(0,len(x)))))"
   ]
  },
  {
   "cell_type": "code",
   "execution_count": 8,
   "metadata": {},
   "outputs": [
    {
     "name": "stdout",
     "output_type": "stream",
     "text": [
      "Prediction: handwaving\n"
     ]
    },
    {
     "name": "stderr",
     "output_type": "stream",
     "text": [
      "/Users/jenniferdawkins/Downloads/vidnet_final.py:107: UserWarning: Implicit dimension choice for log_softmax has been deprecated. Change the call to include dim=X as an argument.\n",
      "  x = F.log_softmax(x)\n"
     ]
    }
   ],
   "source": [
    "# net.eval()\n",
    "torch_frames = torch.Tensor(frames)\n",
    "optimize.zero_grad()\n",
    "outputs = net(torch_frames)\n",
    "_, predicted = torch.max(outputs.detach(), 1)\n",
    "print('Prediction: ' + [key for key,item in dic.items() if item==int(predicted.data[0])][0])"
   ]
  },
  {
   "cell_type": "code",
   "execution_count": null,
   "metadata": {},
   "outputs": [],
   "source": []
  }
 ],
 "metadata": {
  "kernelspec": {
   "display_name": "Python 3",
   "language": "python",
   "name": "python3"
  },
  "language_info": {
   "codemirror_mode": {
    "name": "ipython",
    "version": 3
   },
   "file_extension": ".py",
   "mimetype": "text/x-python",
   "name": "python",
   "nbconvert_exporter": "python",
   "pygments_lexer": "ipython3",
   "version": "3.6.4"
  }
 },
 "nbformat": 4,
 "nbformat_minor": 2
}
